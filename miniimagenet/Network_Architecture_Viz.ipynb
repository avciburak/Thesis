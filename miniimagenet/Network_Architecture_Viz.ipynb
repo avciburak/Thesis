{
 "cells": [
  {
   "cell_type": "code",
   "execution_count": 4,
   "id": "dce97c5d-5578-430d-aeaa-6eead51d4b47",
   "metadata": {},
   "outputs": [],
   "source": [
    "from keras.models import Sequential\n",
    "from keras.layers import Dense, Conv2D, Flatten\n",
    "model = Sequential()\n",
    "model.add(Conv2D(64, kernel_size=3, activation='relu', input_shape=(84,84,3)))\n",
    "model.add(Conv2D(64, kernel_size=3, activation='relu', input_shape=(84,84,64)))\n",
    "model.add(Conv2D(64, kernel_size=3, activation='relu', input_shape=(84,84,64)))\n",
    "model.add(Conv2D(64, kernel_size=3, activation='relu', input_shape=(84,84,64)))\n",
    "model.add(Dense(64, kernel_size=3, activation='relu', input_shape=(84,84,3)))\n"
   ]
  },
  {
   "cell_type": "code",
   "execution_count": null,
   "id": "203e24de-3b7d-4e2f-bd01-1baf6835892c",
   "metadata": {},
   "outputs": [],
   "source": []
  }
 ],
 "metadata": {
  "kernelspec": {
   "display_name": "Python 3 (ipykernel)",
   "language": "python",
   "name": "python3"
  },
  "language_info": {
   "codemirror_mode": {
    "name": "ipython",
    "version": 3
   },
   "file_extension": ".py",
   "mimetype": "text/x-python",
   "name": "python",
   "nbconvert_exporter": "python",
   "pygments_lexer": "ipython3",
   "version": "3.9.13"
  }
 },
 "nbformat": 4,
 "nbformat_minor": 5
}
