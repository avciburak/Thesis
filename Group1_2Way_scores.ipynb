{
 "cells": [
  {
   "cell_type": "code",
   "execution_count": 29,
   "id": "2b768583-716c-409b-b73d-148ce4d9df16",
   "metadata": {},
   "outputs": [],
   "source": [
    "#imports\n",
    "from matplotlib import pyplot as plt\n",
    "plt.style.use(\"seaborn\")"
   ]
  },
  {
   "cell_type": "code",
   "execution_count": 7,
   "id": "f5d4c25e-8ff8-4dbe-940e-38b013ba1a8e",
   "metadata": {},
   "outputs": [],
   "source": [
    "#read score file\n",
    "all_lines=[]#holds all lines in file\n",
    "all_scores=[]\n",
    "frames=[]#holds frame names\n",
    "frame_scores=[]#holds the scores in one frame. updated in for each frame\n",
    "frame_lines=[]#holds the lines which belongs to one frame \n",
    "highest_scores=[]#holds score of bb in a frame which has the highest score\n",
    "selected_bb_names=[]#holds the names of bbs which have high scores\n",
    "selected_bbs_coordinates=[]#holds the coordinates of selected bbs\n",
    "max_frame_number=838\n",
    "for i in range(1,max_frame_number+1):\n",
    "    frames.append(\"frame\"+str(i))\n",
    "\n",
    "with open(\"with_update_gt_2way.txt\",\"r\") as f:\n",
    "    for line in f:\n",
    "        all_lines.append(line)\n",
    "    \n",
    "for frame in frames:\n",
    "    for line in all_lines:\n",
    "        splitted_line=line.split(\" | \")\n",
    "        if splitted_line[0]==frame:\n",
    "            frame_scores.append(splitted_line[2])\n",
    "    all_scores.append(frame_scores)\n",
    "    frame_scores=[]\n",
    "    \n",
    "\n",
    "for scores in all_scores:\n",
    "    highest_scores.append(float(scores[0].split(\"\\n\")[0]))\n",
    "    \n",
    "for frame in frames:\n",
    "    for line in all_lines:\n",
    "        splitted_line=line.split(\" | \")\n",
    "        if splitted_line[0]==frame:\n",
    "            frame_lines.append(splitted_line)\n",
    "    selected_bb_names.append(frame_lines[0][1].split(\"|\")[0])\n",
    "    frame_lines=[]\n",
    "            "
   ]
  },
  {
   "cell_type": "code",
   "execution_count": 13,
   "id": "26188298-c564-4a17-8108-b9243c752787",
   "metadata": {},
   "outputs": [],
   "source": [
    "#get the bb numbers from selected bb names \n",
    "#read group1_4.txt, store all lines in a list, select the lines which have the same order with \n",
    "#selected bb names\n",
    "g14_alllines=[]\n",
    "selected_bb_numbers=[]\n",
    "for bb_name in selected_bb_names:\n",
    "    selected_bb_numbers.append(int(bb_name.split(\".\")[0][2:]))\n",
    "    \n",
    "with open(\"group1_4.txt\",\"r\") as f:\n",
    "    for line in f:\n",
    "        g14_alllines.append(line)\n",
    "        \n",
    "for number in selected_bb_numbers:\n",
    "    splitted=g14_alllines[number].split(\",\")\n",
    "    selected_bbs_coordinates.append([float(splitted[1]),\n",
    "                                     float(splitted[2]),\n",
    "                                     float(splitted[1])+float(splitted[3]),\n",
    "                                     float(splitted[2])+float(splitted[4])])"
   ]
  },
  {
   "cell_type": "code",
   "execution_count": 14,
   "id": "51cba745-c459-454c-8e98-2278c50e7d0d",
   "metadata": {},
   "outputs": [
    {
     "data": {
      "text/plain": [
       "[[789.0, 488.0, 873.0, 572.0],\n",
       " [878.0, 433.0, 931.0, 536.0],\n",
       " [780.0, 475.0, 839.0, 599.0],\n",
       " [772.0, 476.0, 852.0, 598.0],\n",
       " [880.0, 435.0, 914.0, 545.0],\n",
       " [882.0, 427.0, 917.0, 545.0],\n",
       " [873.0, 428.0, 914.0, 534.0],\n",
       " [874.0, 426.0, 914.0, 530.0],\n",
       " [875.0, 432.0, 908.0, 528.0],\n",
       " [869.0, 424.0, 914.0, 521.0]]"
      ]
     },
     "execution_count": 14,
     "metadata": {},
     "output_type": "execute_result"
    }
   ],
   "source": [
    "selected_bbs_coordinates[0:10]"
   ]
  },
  {
   "cell_type": "code",
   "execution_count": 10,
   "id": "45e7fdc7-4d9e-4d29-b1cf-67a24dd03024",
   "metadata": {},
   "outputs": [
    {
     "data": {
      "text/plain": [
       "[0, 12, 30, 47, 54, 70, 89, 102, 113, 126]"
      ]
     },
     "execution_count": 10,
     "metadata": {},
     "output_type": "execute_result"
    }
   ],
   "source": [
    "selected_bb_numbers[0:10]"
   ]
  },
  {
   "cell_type": "code",
   "execution_count": 15,
   "id": "709e3c2f-116e-4dd2-b960-74679b4189c3",
   "metadata": {},
   "outputs": [],
   "source": [
    "#read ground truth file\n",
    "gt_lines=[]\n",
    "gt_bbs=[]#holds the bounding box coordinates of groundtruths of each frame\n",
    "with open(\"groundtruthgroup1.txt\",\"r\") as f:\n",
    "    for line in f:\n",
    "        splitted=line.split(\",\")\n",
    "        gt_bbs.append([float(splitted[0]),\n",
    "                       float(splitted[1]),\n",
    "                       float(splitted[0])+float(splitted[2]),\n",
    "                       float(splitted[1])+float(splitted[3])])"
   ]
  },
  {
   "cell_type": "code",
   "execution_count": 16,
   "id": "dc213297-ef91-43ec-b988-7a0116bf25dd",
   "metadata": {},
   "outputs": [
    {
     "data": {
      "text/plain": [
       "[[789.0, 489.0, 873.0, 573.0],\n",
       " [789.0, 488.0, 830.0, 595.0],\n",
       " [788.0, 488.0, 829.0, 595.0],\n",
       " [788.0, 487.0, 829.0, 594.0],\n",
       " [789.0, 484.0, 830.0, 591.0],\n",
       " [789.0, 482.0, 829.0, 589.0],\n",
       " [790.0, 479.0, 830.0, 586.0],\n",
       " [790.0, 477.0, 829.0, 582.0],\n",
       " [791.0, 476.0, 830.0, 579.0],\n",
       " [791.0, 474.0, 829.0, 575.0]]"
      ]
     },
     "execution_count": 16,
     "metadata": {},
     "output_type": "execute_result"
    }
   ],
   "source": [
    "gt_bbs[0:10]"
   ]
  },
  {
   "cell_type": "code",
   "execution_count": 17,
   "id": "a68ecee2-d1e2-45d6-a6c1-9d6dee520e0d",
   "metadata": {},
   "outputs": [],
   "source": [
    "#IoU function\n",
    "def IoU(boxA, boxB):\n",
    "\t    # determine the (x, y)-coordinates of the intersection rectangle\n",
    "    xA = max(boxA[0], boxB[0])\n",
    "    yA = max(boxA[1], boxB[1])\n",
    "    xB = min(boxA[2], boxB[2])\n",
    "    yB = min(boxA[3], boxB[3])\n",
    "            # compute the area of intersection rectangle\n",
    "    interArea = max(0, xB - xA + 1) * max(0, yB - yA + 1)\n",
    "            # compute the area of both the prediction and ground-truth\n",
    "            # rectangles\n",
    "    boxAArea = (boxA[2] - boxA[0] + 1) * (boxA[3] - boxA[1] + 1)\n",
    "    boxBArea = (boxB[2] - boxB[0] + 1) * (boxB[3] - boxB[1] + 1)\n",
    "            # compute the intersection over union by taking the intersection\n",
    "            # area and dividing it by the sum of prediction + ground-truth\n",
    "            # areas - the interesection area\n",
    "    iou = interArea / float(boxAArea + boxBArea - interArea)\n",
    "            # return the intersection over union value\n",
    "    return iou"
   ]
  },
  {
   "cell_type": "code",
   "execution_count": 18,
   "id": "7389a791-7477-4997-9197-2a78f9765fb4",
   "metadata": {},
   "outputs": [],
   "source": [
    "iou_scores=[]#holds intersection over union scores of high score bb's and groundtruths\n",
    "for box,box_gt in zip(selected_bbs_coordinates,gt_bbs):\n",
    "    iou_scores.append(IoU(box,box_gt))"
   ]
  },
  {
   "cell_type": "code",
   "execution_count": 19,
   "id": "0d43a9b2-13f9-441b-b699-2056f6b27cd8",
   "metadata": {},
   "outputs": [
    {
     "data": {
      "text/plain": [
       "[0.9767441860465116,\n",
       " 0.0,\n",
       " 0.6048,\n",
       " 0.45528455284552843,\n",
       " 0.0,\n",
       " 0.0,\n",
       " 0.0,\n",
       " 0.0,\n",
       " 0.0,\n",
       " 0.0]"
      ]
     },
     "execution_count": 19,
     "metadata": {},
     "output_type": "execute_result"
    }
   ],
   "source": [
    "iou_scores[0:10]"
   ]
  },
  {
   "cell_type": "code",
   "execution_count": 30,
   "id": "3a3965fd-8226-4e3b-a87a-92b28acc6d6b",
   "metadata": {},
   "outputs": [
    {
     "data": {
      "text/plain": [
       "<function matplotlib.pyplot.show(close=None, block=None)>"
      ]
     },
     "execution_count": 30,
     "metadata": {},
     "output_type": "execute_result"
    },
    {
     "data": {
      "image/png": "[encoded data removed]",
      "text/plain": [
       "<Figure size 800x550 with 1 Axes>"
      ]
     },
     "metadata": {},
     "output_type": "display_data"
    }
   ],
   "source": [
    "plt.scatter(range(1,len(highest_scores)+1),highest_scores)\n",
    "plt.xlabel(\"Frame Number\")\n",
    "plt.ylabel(\"Scores\")\n",
    "plt.show"
   ]
  },
  {
   "cell_type": "code",
   "execution_count": 31,
   "id": "01695a35-3b51-439e-aecc-c9506044b8ea",
   "metadata": {},
   "outputs": [],
   "source": [
    "count=0\n",
    "count_from_zero=0\n",
    "for iou in iou_scores:\n",
    "    if iou>=0.5:\n",
    "        count+=1\n",
    "    if iou>0.0:\n",
    "        count_from_zero+=1"
   ]
  },
  {
   "cell_type": "code",
   "execution_count": 32,
   "id": "5678ed7e-5dd4-4f59-84f1-e88f6729481c",
   "metadata": {},
   "outputs": [
    {
     "data": {
      "text/plain": [
       "95"
      ]
     },
     "execution_count": 32,
     "metadata": {},
     "output_type": "execute_result"
    }
   ],
   "source": [
    "count"
   ]
  },
  {
   "cell_type": "code",
   "execution_count": 33,
   "id": "081a113e-b2d1-4e8d-a9d4-361d28450bde",
   "metadata": {},
   "outputs": [
    {
     "data": {
      "text/plain": [
       "131"
      ]
     },
     "execution_count": 33,
     "metadata": {},
     "output_type": "execute_result"
    }
   ],
   "source": [
    "count_from_zero"
   ]
  },
  {
   "cell_type": "code",
   "execution_count": null,
   "id": "a8611126-128a-46e1-b324-4e76e212740e",
   "metadata": {},
   "outputs": [],
   "source": []
  }
 ],
 "metadata": {
  "kernelspec": {
   "display_name": "Python 3 (ipykernel)",
   "language": "python",
   "name": "python3"
  },
  "language_info": {
   "codemirror_mode": {
    "name": "ipython",
    "version": 3
   },
   "file_extension": ".py",
   "mimetype": "text/x-python",
   "name": "python",
   "nbconvert_exporter": "python",
   "pygments_lexer": "ipython3",
   "version": "3.9.13"
  }
 },
 "nbformat": 4,
 "nbformat_minor": 5
}
