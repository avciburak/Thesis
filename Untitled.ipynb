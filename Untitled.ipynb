{
 "cells": [
  {
   "cell_type": "code",
   "execution_count": 3,
   "id": "b37ba620-63ab-4592-baef-1ea539fac1ba",
   "metadata": {},
   "outputs": [],
   "source": [
    "from PIL import Image, ImageDraw as D"
   ]
  },
  {
   "cell_type": "code",
   "execution_count": null,
   "id": "65bbe263-8568-4774-afdc-56142bbdcd97",
   "metadata": {},
   "outputs": [],
   "source": []
  },
  {
   "cell_type": "code",
   "execution_count": 7,
   "id": "bed380fe-2d23-4d4f-86d9-4ef383536a2a",
   "metadata": {},
   "outputs": [],
   "source": [
    "frame=Image.open(\"C:/Users/vatan/Downloads/00003254.jpg\")\n",
    "draw_1=D.Draw(frame)\n",
    "draw_2=D.Draw(frame)\n",
    "draw_1.rectangle([(739,302),(739+34,302+81)],outline=\"green\")\n",
    "draw_2.rectangle([(789,490),(789+84,490+84)],outline=\"green\")\n",
    "frame.show()"
   ]
  },
  {
   "cell_type": "code",
   "execution_count": 8,
   "id": "e401a6cc-175f-4397-a441-d7f698a94d81",
   "metadata": {},
   "outputs": [],
   "source": [
    "def IoU(boxA, boxB):\n",
    "\t    # determine the (x, y)-coordinates of the intersection rectangle\n",
    "    xA = max(boxA[0], boxB[0])\n",
    "    yA = max(boxA[1], boxB[1])\n",
    "    xB = min(boxA[2], boxB[2])\n",
    "    yB = min(boxA[3], boxB[3])\n",
    "            # compute the area of intersection rectangle\n",
    "    interArea = max(0, xB - xA + 1) * max(0, yB - yA + 1)\n",
    "            # compute the area of both the prediction and ground-truth\n",
    "            # rectangles\n",
    "    boxAArea = (boxA[2] - boxA[0] + 1) * (boxA[3] - boxA[1] + 1)\n",
    "    boxBArea = (boxB[2] - boxB[0] + 1) * (boxB[3] - boxB[1] + 1)\n",
    "            # compute the intersection over union by taking the intersection\n",
    "            # area and dividing it by the sum of prediction + ground-truth\n",
    "            # areas - the interesection area\n",
    "    iou = interArea / float(boxAArea + boxBArea - interArea)\n",
    "            # return the intersection over union value\n",
    "    return iou"
   ]
  },
  {
   "cell_type": "code",
   "execution_count": 9,
   "id": "8e98ddca-67b7-4ea4-9312-97239552c8e0",
   "metadata": {},
   "outputs": [
    {
     "data": {
      "text/plain": [
       "0.0"
      ]
     },
     "execution_count": 9,
     "metadata": {},
     "output_type": "execute_result"
    }
   ],
   "source": [
    "IoU([739,302,739+34,302+81],[789,490,789+84,490+84])"
   ]
  },
  {
   "cell_type": "code",
   "execution_count": 10,
   "id": "8806a253-61fa-4423-bca9-e774a19cb5d3",
   "metadata": {},
   "outputs": [],
   "source": [
    "proposal_coordinates=[[739,302,739+34,302+81],\n",
    "                      [664,268,664+37,268+93],\n",
    "                      [738,302,738+35,302+83],\n",
    "                      [842,291,842+35,291+101],\n",
    "                      [662,267,662+40,267+96],\n",
    "                      [666,267,666+25,267+84],\n",
    "                      [742,307,742+108,307+114],\n",
    "                      [746,306,746+102,306+109],\n",
    "                      [750,308,750+99,308+114],\n",
    "                      [841,290,841+37,290+102],\n",
    "                      [735,309,735+41,309+83],\n",
    "                      [735,309,735+41,309+83]]"
   ]
  },
  {
   "cell_type": "code",
   "execution_count": 11,
   "id": "bba6756a-2f98-4743-8f07-2b349ed75679",
   "metadata": {},
   "outputs": [
    {
     "name": "stdout",
     "output_type": "stream",
     "text": [
      "0.0\n",
      "0.0\n",
      "0.0\n",
      "0.0\n",
      "0.0\n",
      "0.0\n",
      "0.0\n",
      "0.0\n",
      "0.0\n",
      "0.0\n",
      "0.0\n",
      "0.0\n"
     ]
    }
   ],
   "source": [
    "for coordinate in proposal_coordinates:\n",
    "    print(IoU(coordinate,[789,490,789+84,490+84]))"
   ]
  },
  {
   "cell_type": "code",
   "execution_count": null,
   "id": "b440444e-fd50-4f47-902a-26a294ab2957",
   "metadata": {},
   "outputs": [],
   "source": []
  }
 ],
 "metadata": {
  "kernelspec": {
   "display_name": "Python 3 (ipykernel)",
   "language": "python",
   "name": "python3"
  },
  "language_info": {
   "codemirror_mode": {
    "name": "ipython",
    "version": 3
   },
   "file_extension": ".py",
   "mimetype": "text/x-python",
   "name": "python",
   "nbconvert_exporter": "python",
   "pygments_lexer": "ipython3",
   "version": "3.9.13"
  }
 },
 "nbformat": 4,
 "nbformat_minor": 5
}
