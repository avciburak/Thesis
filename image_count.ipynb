{
 "cells": [
  {
   "cell_type": "code",
   "execution_count": 1,
   "id": "017c23fd-4af9-490f-8db6-1f9ec515b825",
   "metadata": {},
   "outputs": [],
   "source": [
    "all_lines=[]\n",
    "with open(\"train_roots_images_5way.txt\",\"r\") as f:\n",
    "    for line in f:\n",
    "        all_lines.append(line)"
   ]
  },
  {
   "cell_type": "code",
   "execution_count": 2,
   "id": "87b87259-7a5f-4a22-aaef-e6ca2318a102",
   "metadata": {},
   "outputs": [],
   "source": [
    "classes=[]\n",
    "for line in all_lines:\n",
    "    classes.append(line.split(\"/\")[4])"
   ]
  },
  {
   "cell_type": "code",
   "execution_count": 3,
   "id": "36ee36b5-27b9-4bd6-9537-95b3bad40239",
   "metadata": {},
   "outputs": [],
   "source": [
    "classes=set(classes)"
   ]
  },
  {
   "cell_type": "code",
   "execution_count": 4,
   "id": "a61bfc11-997d-4cc6-abbd-eacd8d54cc6d",
   "metadata": {},
   "outputs": [
    {
     "data": {
      "text/plain": [
       "20"
      ]
     },
     "execution_count": 4,
     "metadata": {},
     "output_type": "execute_result"
    }
   ],
   "source": [
    "len(classes)"
   ]
  },
  {
   "cell_type": "code",
   "execution_count": 5,
   "id": "e98376b4-6c87-49b8-95df-0a2a43c0b4b6",
   "metadata": {},
   "outputs": [],
   "source": [
    "samples=dict()\n",
    "for c in classes:\n",
    "    temp=[]\n",
    "    for line in all_lines:\n",
    "        if line.split(\"/\")[4]==c:\n",
    "            temp.append(line.split(\"/\")[5])\n",
    "    samples[c]=temp"
   ]
  },
  {
   "cell_type": "code",
   "execution_count": 6,
   "id": "e391c685-2e2c-4c1c-8d9b-1db94fb7dd14",
   "metadata": {},
   "outputs": [
    {
     "name": "stdout",
     "output_type": "stream",
     "text": [
      "1456\n",
      "1452\n",
      "1549\n",
      "1512\n",
      "1475\n",
      "1520\n",
      "1504\n",
      "1490\n",
      "1507\n",
      "1533\n",
      "1553\n",
      "1447\n",
      "1441\n",
      "1465\n",
      "1509\n",
      "1605\n",
      "1467\n",
      "1506\n",
      "1477\n",
      "1532\n"
     ]
    }
   ],
   "source": [
    "for c in classes:\n",
    "    print(len(samples[c]))"
   ]
  },
  {
   "cell_type": "code",
   "execution_count": 7,
   "id": "0c3b2700-8451-4dc5-9653-b473d3be3030",
   "metadata": {},
   "outputs": [
    {
     "name": "stdout",
     "output_type": "stream",
     "text": [
      "548\n",
      "548\n",
      "554\n",
      "553\n",
      "551\n",
      "558\n",
      "555\n",
      "540\n",
      "552\n",
      "559\n",
      "545\n",
      "537\n",
      "552\n",
      "546\n",
      "554\n",
      "552\n",
      "547\n",
      "557\n",
      "537\n",
      "558\n"
     ]
    }
   ],
   "source": [
    "for c in classes:\n",
    "    print(len(set(samples[c])))"
   ]
  },
  {
   "cell_type": "code",
   "execution_count": 8,
   "id": "bb34e4f6-fe53-45b6-af72-d3fc5b2763d8",
   "metadata": {},
   "outputs": [],
   "source": [
    "all_lines=[]\n",
    "with open(\"test_roots_images_5way.txt\",\"r\") as f:\n",
    "    for line in f:\n",
    "        all_lines.append(line)"
   ]
  },
  {
   "cell_type": "code",
   "execution_count": 9,
   "id": "548d1e34-30c0-4f87-addd-91e3b7ce08b2",
   "metadata": {},
   "outputs": [],
   "source": [
    "classes=[]\n",
    "for line in all_lines:\n",
    "    classes.append(line.split(\"/\")[4])"
   ]
  },
  {
   "cell_type": "code",
   "execution_count": 10,
   "id": "7ac298cd-4263-48cc-bb80-b4d7bf5e2643",
   "metadata": {},
   "outputs": [],
   "source": [
    "classes=set(classes)"
   ]
  },
  {
   "cell_type": "code",
   "execution_count": 11,
   "id": "9337ef96-f2c8-442b-8fcd-8c49046c597c",
   "metadata": {},
   "outputs": [
    {
     "data": {
      "text/plain": [
       "20"
      ]
     },
     "execution_count": 11,
     "metadata": {},
     "output_type": "execute_result"
    }
   ],
   "source": [
    "len(classes)"
   ]
  },
  {
   "cell_type": "code",
   "execution_count": 12,
   "id": "33543da3-a7cc-46bd-a26a-c03283bd9731",
   "metadata": {},
   "outputs": [],
   "source": [
    "samples=dict()\n",
    "for c in classes:\n",
    "    temp=[]\n",
    "    for line in all_lines:\n",
    "        if line.split(\"/\")[4]==c:\n",
    "            temp.append(line.split(\"/\")[5])\n",
    "    samples[c]=temp"
   ]
  },
  {
   "cell_type": "code",
   "execution_count": 13,
   "id": "f9f3013e-1ea8-4cc3-a657-aab1931d9409",
   "metadata": {},
   "outputs": [
    {
     "name": "stdout",
     "output_type": "stream",
     "text": [
      "21840\n",
      "21780\n",
      "23235\n",
      "22680\n",
      "22125\n",
      "22800\n",
      "22560\n",
      "22350\n",
      "22605\n",
      "22995\n",
      "23295\n",
      "21705\n",
      "21615\n",
      "21975\n",
      "22635\n",
      "24075\n",
      "22005\n",
      "22590\n",
      "22155\n",
      "22980\n"
     ]
    }
   ],
   "source": [
    "for c in classes:\n",
    "    print(len(samples[c]))"
   ]
  },
  {
   "cell_type": "code",
   "execution_count": 14,
   "id": "c6d762e9-bb00-496a-a40d-03c07a122cf4",
   "metadata": {},
   "outputs": [
    {
     "name": "stdout",
     "output_type": "stream",
     "text": [
      "600\n",
      "600\n",
      "600\n",
      "600\n",
      "600\n",
      "600\n",
      "600\n",
      "600\n",
      "600\n",
      "600\n",
      "600\n",
      "600\n",
      "600\n",
      "600\n",
      "600\n",
      "600\n",
      "600\n",
      "600\n",
      "600\n",
      "600\n"
     ]
    }
   ],
   "source": [
    "for c in classes:\n",
    "    print(len(set(samples[c])))"
   ]
  },
  {
   "cell_type": "code",
   "execution_count": null,
   "id": "ef0b37dc-4a19-44ca-92d5-f1429ac4a26a",
   "metadata": {},
   "outputs": [],
   "source": []
  }
 ],
 "metadata": {
  "kernelspec": {
   "display_name": "Python 3 (ipykernel)",
   "language": "python",
   "name": "python3"
  },
  "language_info": {
   "codemirror_mode": {
    "name": "ipython",
    "version": 3
   },
   "file_extension": ".py",
   "mimetype": "text/x-python",
   "name": "python",
   "nbconvert_exporter": "python",
   "pygments_lexer": "ipython3",
   "version": "3.9.13"
  }
 },
 "nbformat": 4,
 "nbformat_minor": 5
}
