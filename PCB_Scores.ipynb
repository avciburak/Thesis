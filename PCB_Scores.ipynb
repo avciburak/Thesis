{
 "cells": [
  {
   "cell_type": "code",
   "execution_count": null,
   "id": "5af11f17-2207-4e69-bfe9-db6cb7f6d04a",
   "metadata": {},
   "outputs": [],
   "source": [
    "#imports"
   ]
  },
  {
   "cell_type": "code",
   "execution_count": null,
   "id": "e885e132-eb7e-4247-9923-1b499246d56a",
   "metadata": {},
   "outputs": [],
   "source": [
    "#read score file\n",
    "with open(\"group1_4.txt\",\"r\") as f:\n",
    "    for line in f:\n",
    "        "
   ]
  }
 ],
 "metadata": {
  "kernelspec": {
   "display_name": "Python 3 (ipykernel)",
   "language": "python",
   "name": "python3"
  },
  "language_info": {
   "codemirror_mode": {
    "name": "ipython",
    "version": 3
   },
   "file_extension": ".py",
   "mimetype": "text/x-python",
   "name": "python",
   "nbconvert_exporter": "python",
   "pygments_lexer": "ipython3",
   "version": "3.9.13"
  }
 },
 "nbformat": 4,
 "nbformat_minor": 5
}
